{
  "cells": [
    {
      "cell_type": "code",
      "source": [
        "import matplotlib.pyplot as plt\n",
        "from tqdm import tqdm\n",
        "import numpy as np\n",
        "from dolfin import *\n",
        "from mshr import *"
      ],
      "outputs": [],
      "execution_count": 2,
      "metadata": {}
    },
    {
      "cell_type": "code",
      "source": [
        "freq = 50e3\n",
        "c0 = 1481\n",
        "omega = 2*np.pi*freq\n",
        "k0 = omega / c0\n",
        "wave_len = c0 / freq\n",
        "\n",
        "tx_radius = 15e-2\n",
        "tx_aperture_radius = 15e-2\n",
        "alpha_aperture = np.arcsin(tx_aperture_radius / (2*tx_radius))\n",
        "dims = (40e-2, 30e-2)\n",
        "\n",
        "n_wave = 10  # number of mesh elements per wavelength\n",
        "\n",
        "domain = Rectangle(Point(0, -dims[1]/2), Point(dims[0], dims[1]/2))\n",
        "domain += Circle(Point(tx_radius*np.cos(alpha_aperture), 0), tx_radius)\n",
        "mesh = generate_mesh(domain, int(n_wave*min(dims)/wave_len))\n",
        "V=FunctionSpace(mesh, \"Lagrange\", 2)\n",
        "\n",
        "# Time variables\n",
        "dt = 1e-6\n",
        "T = 2e-4\n",
        "t_mesh = np.arange(0, T, dt)"
      ],
      "outputs": [
        {
          "output_type": "stream",
          "name": "stdout",
          "text": [
            "Calling FFC just-in-time (JIT) compiler, this may take some time.\n"
          ]
        }
      ],
      "execution_count": 3,
      "metadata": {}
    },
    {
      "cell_type": "code",
      "source": [
        "plot(mesh)"
      ],
      "outputs": [
        {
          "output_type": "execute_result",
          "execution_count": 4,
          "data": {
            "text/plain": "[<matplotlib.lines.Line2D at 0x405d7d7ef0>,\n <matplotlib.lines.Line2D at 0x4058008a90>]"
          },
          "metadata": {}
        },
        {
          "output_type": "display_data",
          "data": {
            "image/png": "[encoded data removed]",
            "text/plain": "<Figure size 432x288 with 1 Axes>"
          },
          "metadata": {
            "needs_background": "light"
          }
        }
      ],
      "execution_count": 4,
      "metadata": {}
    },
    {
      "cell_type": "code",
      "source": [
        "# Previous and current solution\n",
        "u1= interpolate(Constant(0.0), V)\n",
        "u0= interpolate(Constant(0.0), V)\n",
        "\n",
        "# Variational problem at each time\n",
        "u = TrialFunction(V)\n",
        "v = TestFunction(V)\n",
        "\n",
        "a = u*v*dx + dt*dt*c0*c0*inner(grad(u), grad(v))*dx\n",
        "L = 2*u1*v*dx-u0*v*dx\n",
        "\n",
        "walls = f'near(x[0], {-dims[0]/2}) || near(x[0], {dims[0]/2}) || near(x[1], {dims[1]})'\n",
        "\n",
        "def tx_boundary(x, on_boundary):\n",
        "    return on_boundary and x[0] < 0.\n",
        "\n",
        "bc_walls = DirichletBC(V, Constant(0.), walls)\n",
        "bc_tx = DirichletBC(V, Constant(0), tx_boundary)\n",
        "\n",
        "A, b = assemble_system(a, L, [bc_tx, bc_walls])\n",
        "\n",
        "u=Function(V)\n",
        "for ii, t in tqdm(enumerate(t_mesh)):\n",
        "    bc_tx = DirichletBC(V, Constant(sin(omega*t)), tx_boundary)\n",
        "    A, b = assemble_system(a, L, [bc_tx, bc_walls])\n",
        "    #delta = PointSource(V, Point(0, 0), sin(omega*t))\n",
        "    #delta.apply(b)\n",
        "    solve(A, u.vector(), b)\n",
        "    u0.assign(u1)\n",
        "    u1.assign(u)\n",
        "    \n",
        "    if ii%5 == 0:\n",
        "        plot(u) #, vmin=-.33, vmax=.33)\n",
        "        plt.savefig(f'tranducer_prop_test_{ii}')"
      ],
      "outputs": [],
      "execution_count": null,
      "metadata": {}
    },
    {
      "cell_type": "markdown",
      "source": [
        "![alt text](tranducer_prop_test_65.png \"Acoustic propagation test\")"
      ],
      "metadata": {
        "nteract": {
          "transient": {
            "deleting": false
          }
        }
      }
    }
  ],
  "metadata": {
    "kernelspec": {
      "display_name": "Python 3",
      "language": "python",
      "name": "python3"
    },
    "language_info": {
      "codemirror_mode": {
        "name": "ipython",
        "version": 3
      },
      "file_extension": ".py",
      "mimetype": "text/x-python",
      "name": "python",
      "nbconvert_exporter": "python",
      "pygments_lexer": "ipython3",
      "version": "3.8.5"
    },
    "nteract": {
      "version": "0.28.0"
    }
  },
  "nbformat": 4,
  "nbformat_minor": 4
}