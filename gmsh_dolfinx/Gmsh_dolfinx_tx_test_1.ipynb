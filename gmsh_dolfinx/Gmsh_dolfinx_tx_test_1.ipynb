{
 "cells": [
  {
   "cell_type": "code",
   "execution_count": 13,
   "id": "8197eda6-eaf5-45a3-905c-a3f865668453",
   "metadata": {},
   "outputs": [],
   "source": [
    "import dolfinx, gmsh, gmsh_helpers, ufl, time\n",
    "from mpi4py import MPI\n",
    "from tqdm import tqdm\n",
    "import numpy as np\n",
    "\n",
    "# Physical quantities\n",
    "tx_freq = 200e3 # Hz\n",
    "c0 = 1481 # m.s-1\n",
    "omega = 2*np.pi*tx_freq\n",
    "k0 = omega / c0 # wavenumber\n",
    "wave_len = c0 / tx_freq\n",
    "\n",
    "# Transducer properties\n",
    "tx_radius = 15e-2\n",
    "tx_aperture_radius = 15e-2\n",
    "alpha_aperture = np.arcsin(tx_aperture_radius / (2*tx_radius))\n",
    "tx_marker, boundary_marker, ac_domain_marker = 1, 2, 3\n",
    "\n",
    "# Domain parameters\n",
    "topology_dim = 2\n",
    "dims = (30e-2, 35e-2)\n",
    "\n",
    "# Spatial discretisation parameters\n",
    "degree = 3\n",
    "n_wave = 3\n",
    "h_elem = wave_len / n_wave\n",
    "\n",
    "# Temporal discretisation parameters\n",
    "dt = 1 / (10 * tx_freq)\n",
    "T = 2e-4\n",
    "t_mesh = np.arange(0, T, dt)"
   ]
  },
  {
   "cell_type": "code",
   "execution_count": 14,
   "id": "a9d91fee-c062-4a53-b67b-421d475bbfb0",
   "metadata": {},
   "outputs": [],
   "source": [
    "''' Mesh generation '''\n",
    "gmsh.initialize()\n",
    "\n",
    "model = gmsh.model\n",
    "model.add(\"TxDomain\")\n",
    "\n",
    "tx_center = model.geo.addPoint(tx_radius*np.cos(alpha_aperture),0,0, meshSize=h_elem, tag=10)\n",
    "points = []\n",
    "\n",
    "points.append(model.geo.addPoint(tx_radius*np.cos(-alpha_aperture+np.pi) + tx_radius*np.cos(alpha_aperture), tx_radius*np.sin(-alpha_aperture+np.pi), 0, meshSize=h_elem, tag=0))\n",
    "points.append(model.geo.addPoint(tx_radius*np.cos(alpha_aperture+np.pi) + tx_radius*np.cos(alpha_aperture), tx_radius*np.sin(alpha_aperture+np.pi), 0, meshSize=h_elem, tag=1))\n",
    "rect_domain_geom = [[0., -1/2], [1., -1/2], [1., 1/2], [0., 1/2]]\n",
    "for rect_geom in rect_domain_geom:\n",
    "    points.append(model.geo.addPoint(*[gg*dd for gg, dd in zip(rect_geom, dims)],0, meshSize=h_elem, tag=len(points)))\n",
    "\n",
    "lines = []\n",
    "lines.append(model.geo.addCircleArc(points[0], tx_center, points[1]))\n",
    "for pt in points[1:]:\n",
    "    lines.append(model.geo.addLine(points[pt], points[(pt+1)%6]))\n",
    "\n",
    "# Curveloop and Surface\n",
    "curveloop = model.geo.addCurveLoop(lines)\n",
    "domain = model.geo.addPlaneSurface([curveloop])\n",
    "\n",
    "# This command is mandatory and synchronize CAD with GMSH Model. The less you launch it, the better it is for performance purpose\n",
    "gmsh.model.geo.synchronize()\n",
    "\n",
    "# Physical groups\n",
    "gmsh.model.addPhysicalGroup(1, [lines[0]], tx_marker)\n",
    "gmsh.model.setPhysicalName(1, tx_marker, \"Tx\")\n",
    "gmsh.model.addPhysicalGroup(1, lines[1:], boundary_marker)\n",
    "gmsh.model.setPhysicalName(1, boundary_marker, \"Domain boundary\")\n",
    "gmsh.model.addPhysicalGroup(2, [domain], ac_domain_marker)\n",
    "gmsh.model.setPhysicalName(2, ac_domain_marker, \"Acoustic domain\")\n",
    "\n",
    "# Mesh\n",
    "model.mesh.generate(topology_dim)\n",
    "gmsh.write(\"TxDomain.msh\")\n",
    "\n",
    "# Gmsh to dolfinx mesh\n",
    "mesh, cell_tags, facet_tags = gmsh_helpers.gmsh_model_to_mesh(model, cell_data=True, facet_data=True, gdim=topology_dim)\n",
    "\n",
    "# Finalize GMSH\n",
    "gmsh.finalize()"
   ]
  },
  {
   "cell_type": "code",
   "execution_count": 15,
   "id": "f2270e6b-56dd-433f-a9c0-021ef66365b1",
   "metadata": {},
   "outputs": [],
   "source": [
    "P = dolfinx.FunctionSpace(mesh, (\"Lagrange\", degree))\n",
    "\n",
    "# Retreive the transducer facet indexes to apply the bc later on\n",
    "tx_facets = facet_tags.indices[facet_tags.values == tx_marker]\n",
    "tx_dofs = dolfinx.fem.locate_dofs_topological(P, topology_dim - 1, tx_facets)\n",
    "p_source = dolfinx.Function(P)"
   ]
  },
  {
   "cell_type": "code",
   "execution_count": 16,
   "id": "5235fe2d-7cc1-44ef-ba77-d47da98ee48e",
   "metadata": {},
   "outputs": [],
   "source": [
    "# Initial state of the acoustic domain\n",
    "p0 = dolfinx.Function(P)\n",
    "p0.vector.set(0)\n",
    "p1 = dolfinx.Function(P)\n",
    "p1.vector.set(0)"
   ]
  },
  {
   "cell_type": "code",
   "execution_count": 17,
   "id": "be9dbfef-9d19-4493-9feb-04aa8ccb0356",
   "metadata": {},
   "outputs": [],
   "source": [
    "# Define variational problem\n",
    "u = ufl.TrialFunction(P)\n",
    "v = ufl.TestFunction(P)\n",
    "\n",
    "a = u*v*ufl.dx + dt*dt*c0*c0*ufl.inner(ufl.grad(u), ufl.grad(v))*ufl.dx\n",
    "L = 2*p1*v*ufl.dx-p0*v*ufl.dx"
   ]
  },
  {
   "cell_type": "code",
   "execution_count": 18,
   "id": "4dcd0e82-3f19-4ed5-a7f2-dc6a1072774f",
   "metadata": {},
   "outputs": [
    {
     "name": "stderr",
     "output_type": "stream",
     "text": [
      "100%|██████████| 401/401 [12:53<00:00,  1.93s/it]\n"
     ]
    }
   ],
   "source": [
    "xdmf_file = dolfinx.io.XDMFFile(MPI.COMM_WORLD, \"tx_propagation_test_lf_deg3.xdmf\", \"w\")\n",
    "xdmf_file.write_mesh(mesh)\n",
    "\n",
    "for tt in tqdm(t_mesh):\n",
    "    p_source.vector.set(np.sin(omega*tt)) \n",
    "    tx_bc = dolfinx.DirichletBC(p_source, tx_dofs)\n",
    "\n",
    "    problem = dolfinx.fem.LinearProblem(a, L, bcs=[tx_bc], petsc_options={\"ksp_type\": \"preonly\", \"pc_type\": \"lu\"})\n",
    "    p = problem.solve()\n",
    "\n",
    "    p.name = \"pressure\"\n",
    "    xdmf_file.write_function(p, tt)\n",
    "    \n",
    "    with p0.vector.localForm() as p_loc_0, p1.vector.localForm() as p_loc_1:\n",
    "        p_loc_1.copy(p_loc_0)\n",
    "\n",
    "    with p1.vector.localForm() as p_loc_1, p.vector.localForm() as p_loc:\n",
    "        p_loc.copy(p_loc_1)\n",
    "\n",
    "xdmf_file.close()"
   ]
  },
  {
   "cell_type": "markdown",
   "id": "dcc72fb0-900a-41e0-a9b2-45c20abc2b43",
   "metadata": {},
   "source": [
    "![alt text](p_fields.png \"p field\")"
   ]
  }
 ],
 "metadata": {
  "kernelspec": {
   "display_name": "Python 3",
   "language": "python",
   "name": "python3"
  },
  "language_info": {
   "codemirror_mode": {
    "name": "ipython",
    "version": 3
   },
   "file_extension": ".py",
   "mimetype": "text/x-python",
   "name": "python",
   "nbconvert_exporter": "python",
   "pygments_lexer": "ipython3",
   "version": "3.8.5"
  }
 },
 "nbformat": 4,
 "nbformat_minor": 5
}
