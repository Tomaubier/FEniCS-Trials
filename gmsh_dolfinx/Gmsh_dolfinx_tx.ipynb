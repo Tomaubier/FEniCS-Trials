{
 "cells": [
  {
   "cell_type": "code",
   "execution_count": 6,
   "id": "8197eda6-eaf5-45a3-905c-a3f865668453",
   "metadata": {},
   "outputs": [],
   "source": [
    "from gmsh_helpers import gmsh_model_to_mesh\n",
    "import numpy as np\n",
    "import dolfinx\n",
    "import gmsh\n",
    "\n",
    "freq = 100e3\n",
    "c0 = 1481\n",
    "omega = 2*np.pi*freq\n",
    "k0 = omega / c0          # wavenumber\n",
    "wave_len = c0 / freq     # wavelength\n",
    "dims = (30e-2, 60e-2)\n",
    "\n",
    "n_wave = 3\n",
    "h_elem = wave_len / n_wave\n",
    "\n",
    "dims = (50e-2, 30e-2)\n",
    "tx_radius = 15e-2\n",
    "tx_aperture_radius = 15e-2\n",
    "alpha_aperture = np.arcsin(tx_aperture_radius / (2*tx_radius))"
   ]
  },
  {
   "cell_type": "code",
   "execution_count": 7,
   "id": "a9d91fee-c062-4a53-b67b-421d475bbfb0",
   "metadata": {},
   "outputs": [],
   "source": [
    "# Init GMSH\n",
    "gmsh.initialize()\n",
    "\n",
    "model = gmsh.model\n",
    "model.add(\"TxDomain\")\n",
    "\n",
    "tx_center = model.geo.addPoint(tx_radius*np.cos(alpha_aperture),0,0, meshSize=h_elem, tag=10)\n",
    "points = []\n",
    "\n",
    "points.append(model.geo.addPoint(tx_radius*np.cos(-alpha_aperture+np.pi) + tx_radius*np.cos(alpha_aperture), tx_radius*np.sin(-alpha_aperture+np.pi), 0, meshSize=h_elem, tag=0))\n",
    "points.append(model.geo.addPoint(tx_radius*np.cos(alpha_aperture+np.pi) + tx_radius*np.cos(alpha_aperture), tx_radius*np.sin(alpha_aperture+np.pi), 0, meshSize=h_elem, tag=1))\n",
    "rect_domain_geom = [[0., -1/2], [1., -1/2], [1., 1/2], [0., 1/2]]\n",
    "for rect_geom in rect_domain_geom:\n",
    "    points.append(model.geo.addPoint(*[gg*dd for gg, dd in zip(rect_geom, dims)],0, meshSize=h_elem, tag=len(points)))\n",
    "\n",
    "lines = []\n",
    "lines.append(model.geo.addCircleArc(points[0], tx_center, points[1]))\n",
    "for pt in points[1:]:\n",
    "    lines.append(model.geo.addLine(points[pt], points[(pt+1)%6]))\n",
    "\n",
    "# Curveloop and Surface\n",
    "curveloop = model.geo.addCurveLoop(lines)\n",
    "domain = model.geo.addPlaneSurface([curveloop])\n",
    "\n",
    "# This command is mandatory and synchronize CAD with GMSH Model. The less you launch it, the better it is for performance purpose\n",
    "gmsh.model.geo.synchronize()\n",
    "\n",
    "# Physical groups\n",
    "tx = gmsh.model.addPhysicalGroup(1, [lines[0]], 1)\n",
    "gmsh.model.setPhysicalName(1, tx, \"Tx\")\n",
    "domain_boundary = gmsh.model.addPhysicalGroup(1, lines[1:], 2)\n",
    "gmsh.model.setPhysicalName(1, domain_boundary, \"Domain boundary\")\n",
    "ac_domain = gmsh.model.addPhysicalGroup(2, [domain], 3)\n",
    "gmsh.model.setPhysicalName(2, ac_domain, \"Acoustic domain\")\n",
    "\n",
    "# Mesh (2D)\n",
    "model.mesh.generate(2)\n",
    "gmsh.write(\"TxDomain.msh\")\n",
    "\n",
    "# Gmsh to dolfinx mesh\n",
    "mesh, cell_tags, facet_tags = gmsh_model_to_mesh(model, cell_data=True, facet_data=True, gdim=2)\n",
    "\n",
    "# Finalize GMSH\n",
    "gmsh.finalize()"
   ]
  },
  {
   "cell_type": "code",
   "execution_count": 31,
   "id": "b7a6a6ec-b609-47c1-8200-6cd6192a5346",
   "metadata": {},
   "outputs": [
    {
     "name": "stdout",
     "output_type": "stream",
     "text": [
      "Help on MeshTags_int32 in module dolfinx.cpp.mesh object:\n",
      "\n",
      "class MeshTags_int32(pybind11_builtins.pybind11_object)\n",
      " |  MeshTags object\n",
      " |  \n",
      " |  Method resolution order:\n",
      " |      MeshTags_int32\n",
      " |      pybind11_builtins.pybind11_object\n",
      " |      builtins.object\n",
      " |  \n",
      " |  Methods defined here:\n",
      " |  \n",
      " |  __init__(...)\n",
      " |      __init__(self: dolfinx.cpp.mesh.MeshTags_int32, arg0: dolfinx.cpp.mesh.Mesh, arg1: int, arg2: numpy.ndarray[numpy.int32], arg3: numpy.ndarray[numpy.int32]) -> None\n",
      " |  \n",
      " |  ufl_id(...)\n",
      " |      ufl_id(self: dolfinx.cpp.mesh.MeshTags_int32) -> int\n",
      " |  \n",
      " |  ----------------------------------------------------------------------\n",
      " |  Readonly properties defined here:\n",
      " |  \n",
      " |  dim\n",
      " |  \n",
      " |  indices\n",
      " |  \n",
      " |  mesh\n",
      " |  \n",
      " |  values\n",
      " |  \n",
      " |  ----------------------------------------------------------------------\n",
      " |  Data descriptors defined here:\n",
      " |  \n",
      " |  name\n",
      " |  \n",
      " |  ----------------------------------------------------------------------\n",
      " |  Static methods inherited from pybind11_builtins.pybind11_object:\n",
      " |  \n",
      " |  __new__(*args, **kwargs) from pybind11_builtins.pybind11_type\n",
      " |      Create and return a new object.  See help(type) for accurate signature.\n",
      "\n"
     ]
    }
   ],
   "source": [
    "help(facet_tags)"
   ]
  },
  {
   "cell_type": "code",
   "execution_count": 30,
   "id": "58588873-e9b0-4111-b907-7c6c1acdcce6",
   "metadata": {},
   "outputs": [
    {
     "ename": "AttributeError",
     "evalue": "'dolfinx.cpp.mesh.MeshTags_int32' object has no attribute 'keys'",
     "output_type": "error",
     "traceback": [
      "\u001b[0;31m---------------------------------------------------------------------------\u001b[0m",
      "\u001b[0;31mAttributeError\u001b[0m                            Traceback (most recent call last)",
      "\u001b[0;32m<ipython-input-30-8beda3da7126>\u001b[0m in \u001b[0;36m<module>\u001b[0;34m\u001b[0m\n\u001b[0;32m----> 1\u001b[0;31m \u001b[0mcell_tags\u001b[0m\u001b[0;34m.\u001b[0m\u001b[0mkeys\u001b[0m\u001b[0;34m(\u001b[0m\u001b[0;34m)\u001b[0m\u001b[0;34m\u001b[0m\u001b[0;34m\u001b[0m\u001b[0m\n\u001b[0m",
      "\u001b[0;31mAttributeError\u001b[0m: 'dolfinx.cpp.mesh.MeshTags_int32' object has no attribute 'keys'"
     ]
    }
   ],
   "source": [
    "# Previous and current solution\n",
    "u1= interpolate(Constant(0.0), V)\n",
    "u0= interpolate(Constant(0.0), V)"
   ]
  },
  {
   "cell_type": "code",
   "execution_count": 25,
   "id": "bf2da1d4-da1b-4f6b-affa-c3c3b2a14abd",
   "metadata": {},
   "outputs": [],
   "source": [
    "V = dolfinx.FunctionSpace(mesh, (\"Lagrange\", 2))"
   ]
  },
  {
   "cell_type": "code",
   "execution_count": 27,
   "id": "f35b2690-42be-4a1e-b500-ee1de1d09aa9",
   "metadata": {},
   "outputs": [],
   "source": [
    "# Create facet to cell connectivity required to determine boundary facets\n",
    "boundary_dim = mesh.topology.dim - 1\n",
    "mesh.topology.create_connectivity(boundary_dim, mesh.topology.dim)\n",
    "boundary_facets = np.where(np.array(dolfinx.cpp.mesh.compute_boundary_facets(mesh.topology)) == 1)[0]"
   ]
  },
  {
   "cell_type": "code",
   "execution_count": 29,
   "id": "59ac5f54-29be-4b53-84c3-c7bb69af57a3",
   "metadata": {},
   "outputs": [],
   "source": [
    "boundary_dofs = dolfinx.fem.locate_dofs_topological(V, boundary_dim, boundary_facets)\n",
    "bc = dolfinx.DirichletBC(uD, boundary_dofs)"
   ]
  }
 ],
 "metadata": {
  "kernelspec": {
   "display_name": "Python 3",
   "language": "python",
   "name": "python3"
  },
  "language_info": {
   "codemirror_mode": {
    "name": "ipython",
    "version": 3
   },
   "file_extension": ".py",
   "mimetype": "text/x-python",
   "name": "python",
   "nbconvert_exporter": "python",
   "pygments_lexer": "ipython3",
   "version": "3.8.5"
  }
 },
 "nbformat": 4,
 "nbformat_minor": 5
}
